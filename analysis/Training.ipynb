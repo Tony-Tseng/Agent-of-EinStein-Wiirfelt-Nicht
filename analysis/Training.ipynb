{
 "cells": [
  {
   "cell_type": "code",
   "execution_count": 11,
   "id": "0755a938",
   "metadata": {},
   "outputs": [],
   "source": [
    "from sklearn.model_selection import train_test_split\n",
    "from sklearn.metrics import accuracy_score\n",
    "from sklearn import svm\n",
    "from sklearn.ensemble import AdaBoostClassifier\n",
    "import pandas as pd"
   ]
  },
  {
   "cell_type": "code",
   "execution_count": 22,
   "id": "08786033",
   "metadata": {},
   "outputs": [],
   "source": [
    "df = pd.read_csv(\"Einstein_dataset.csv\")\n",
    "train_data = df.iloc[:, :-1]\n",
    "label_data = df.iloc[:, -1]\n",
    "\n",
    "X_train, X_test, y_train, y_test = train_test_split(train_data, label_data, test_size=0.33, random_state=42)"
   ]
  },
  {
   "cell_type": "code",
   "execution_count": 23,
   "id": "9058c67b",
   "metadata": {},
   "outputs": [
    {
     "data": {
      "text/html": [
       "<div>\n",
       "<style scoped>\n",
       "    .dataframe tbody tr th:only-of-type {\n",
       "        vertical-align: middle;\n",
       "    }\n",
       "\n",
       "    .dataframe tbody tr th {\n",
       "        vertical-align: top;\n",
       "    }\n",
       "\n",
       "    .dataframe thead th {\n",
       "        text-align: right;\n",
       "    }\n",
       "</style>\n",
       "<table border=\"1\" class=\"dataframe\">\n",
       "  <thead>\n",
       "    <tr style=\"text-align: right;\">\n",
       "      <th></th>\n",
       "      <th>0</th>\n",
       "      <th>1</th>\n",
       "      <th>2</th>\n",
       "      <th>3</th>\n",
       "    </tr>\n",
       "  </thead>\n",
       "  <tbody>\n",
       "    <tr>\n",
       "      <th>22563</th>\n",
       "      <td>0</td>\n",
       "      <td>-2</td>\n",
       "      <td>5.666667</td>\n",
       "      <td>3.666667</td>\n",
       "    </tr>\n",
       "    <tr>\n",
       "      <th>19287</th>\n",
       "      <td>-1</td>\n",
       "      <td>2</td>\n",
       "      <td>4.000000</td>\n",
       "      <td>4.333333</td>\n",
       "    </tr>\n",
       "    <tr>\n",
       "      <th>50105</th>\n",
       "      <td>1</td>\n",
       "      <td>2</td>\n",
       "      <td>4.666667</td>\n",
       "      <td>3.200000</td>\n",
       "    </tr>\n",
       "    <tr>\n",
       "      <th>39888</th>\n",
       "      <td>-2</td>\n",
       "      <td>1</td>\n",
       "      <td>4.500000</td>\n",
       "      <td>3.000000</td>\n",
       "    </tr>\n",
       "    <tr>\n",
       "      <th>3605</th>\n",
       "      <td>0</td>\n",
       "      <td>2</td>\n",
       "      <td>6.000000</td>\n",
       "      <td>2.400000</td>\n",
       "    </tr>\n",
       "    <tr>\n",
       "      <th>...</th>\n",
       "      <td>...</td>\n",
       "      <td>...</td>\n",
       "      <td>...</td>\n",
       "      <td>...</td>\n",
       "    </tr>\n",
       "    <tr>\n",
       "      <th>11284</th>\n",
       "      <td>0</td>\n",
       "      <td>3</td>\n",
       "      <td>5.500000</td>\n",
       "      <td>2.750000</td>\n",
       "    </tr>\n",
       "    <tr>\n",
       "      <th>44732</th>\n",
       "      <td>-1</td>\n",
       "      <td>-2</td>\n",
       "      <td>4.500000</td>\n",
       "      <td>3.333333</td>\n",
       "    </tr>\n",
       "    <tr>\n",
       "      <th>38158</th>\n",
       "      <td>-2</td>\n",
       "      <td>-1</td>\n",
       "      <td>4.000000</td>\n",
       "      <td>5.500000</td>\n",
       "    </tr>\n",
       "    <tr>\n",
       "      <th>860</th>\n",
       "      <td>0</td>\n",
       "      <td>4</td>\n",
       "      <td>1.000000</td>\n",
       "      <td>3.000000</td>\n",
       "    </tr>\n",
       "    <tr>\n",
       "      <th>15795</th>\n",
       "      <td>-1</td>\n",
       "      <td>1</td>\n",
       "      <td>4.500000</td>\n",
       "      <td>3.250000</td>\n",
       "    </tr>\n",
       "  </tbody>\n",
       "</table>\n",
       "<p>35741 rows × 4 columns</p>\n",
       "</div>"
      ],
      "text/plain": [
       "       0  1         2         3\n",
       "22563  0 -2  5.666667  3.666667\n",
       "19287 -1  2  4.000000  4.333333\n",
       "50105  1  2  4.666667  3.200000\n",
       "39888 -2  1  4.500000  3.000000\n",
       "3605   0  2  6.000000  2.400000\n",
       "...   .. ..       ...       ...\n",
       "11284  0  3  5.500000  2.750000\n",
       "44732 -1 -2  4.500000  3.333333\n",
       "38158 -2 -1  4.000000  5.500000\n",
       "860    0  4  1.000000  3.000000\n",
       "15795 -1  1  4.500000  3.250000\n",
       "\n",
       "[35741 rows x 4 columns]"
      ]
     },
     "execution_count": 23,
     "metadata": {},
     "output_type": "execute_result"
    }
   ],
   "source": [
    "X_train"
   ]
  },
  {
   "cell_type": "code",
   "execution_count": 24,
   "id": "ddc33909",
   "metadata": {},
   "outputs": [
    {
     "data": {
      "text/plain": [
       "22563    1\n",
       "19287    0\n",
       "50105    1\n",
       "39888    0\n",
       "3605     0\n",
       "        ..\n",
       "11284    0\n",
       "44732    0\n",
       "38158    0\n",
       "860      1\n",
       "15795    0\n",
       "Name: 4, Length: 35741, dtype: int64"
      ]
     },
     "execution_count": 24,
     "metadata": {},
     "output_type": "execute_result"
    }
   ],
   "source": [
    "y_train"
   ]
  },
  {
   "cell_type": "code",
   "execution_count": 25,
   "id": "45b7a66d",
   "metadata": {},
   "outputs": [
    {
     "name": "stdout",
     "output_type": "stream",
     "text": [
      "(35741, 4)\n",
      "(17604, 4)\n",
      "(35741,)\n",
      "(17604,)\n"
     ]
    }
   ],
   "source": [
    "print(X_train.shape)\n",
    "print(X_test.shape)\n",
    "print(y_train.shape)\n",
    "print(y_test.shape)"
   ]
  },
  {
   "cell_type": "markdown",
   "id": "4c1e24e8",
   "metadata": {},
   "source": [
    "# Logistic"
   ]
  },
  {
   "cell_type": "code",
   "execution_count": 26,
   "id": "7378cdd1",
   "metadata": {},
   "outputs": [],
   "source": [
    "from sklearn.linear_model import LogisticRegression\n",
    "logistic_clf = LogisticRegression(random_state=0).fit(X_train, y_train)"
   ]
  },
  {
   "cell_type": "code",
   "execution_count": 27,
   "id": "780a49e4",
   "metadata": {},
   "outputs": [
    {
     "name": "stdout",
     "output_type": "stream",
     "text": [
      "0.6657620100165077\n"
     ]
    }
   ],
   "source": [
    "# y_train_pred = logistic_clf.predict(X_train)\n",
    "# train_acc = accuracy_score(y_train_pred, y_train)\n",
    "# print(train_acc)\n",
    "\n",
    "y_train_pred = X_train @ logistic_clf.coef_.T + logistic_clf.intercept_\n",
    "y_train_pred = (y_train_pred > 0) * 1\n",
    "\n",
    "train_acc = accuracy_score(y_train_pred, y_train)\n",
    "print(train_acc)"
   ]
  },
  {
   "cell_type": "code",
   "execution_count": 28,
   "id": "fd775ee2",
   "metadata": {},
   "outputs": [
    {
     "name": "stdout",
     "output_type": "stream",
     "text": [
      "0.6618950238582141\n"
     ]
    }
   ],
   "source": [
    "y_test_pred = logistic_clf.predict(X_test)\n",
    "test_acc = accuracy_score(y_test_pred, y_test)\n",
    "print(test_acc)"
   ]
  },
  {
   "cell_type": "code",
   "execution_count": 29,
   "id": "1874cfa4",
   "metadata": {},
   "outputs": [
    {
     "name": "stdout",
     "output_type": "stream",
     "text": [
      "[[0.93283391 0.18964634 0.10652978 0.1181102 ]]\n",
      "[-0.86236827]\n"
     ]
    }
   ],
   "source": [
    "print(logistic_clf.coef_)\n",
    "print(logistic_clf.intercept_)"
   ]
  },
  {
   "cell_type": "code",
   "execution_count": 30,
   "id": "5a4327a4",
   "metadata": {},
   "outputs": [
    {
     "name": "stdout",
     "output_type": "stream",
     "text": [
      "0.6618950238582141\n"
     ]
    }
   ],
   "source": [
    "y_test_pred = X_test @ logistic_clf.coef_.T + logistic_clf.intercept_\n",
    "y_test_pred = (y_test_pred > 0) * 1\n",
    "\n",
    "test_acc = accuracy_score(y_test_pred, y_test)\n",
    "print(test_acc)"
   ]
  },
  {
   "cell_type": "markdown",
   "id": "e4da9055",
   "metadata": {},
   "source": [
    "# SVC"
   ]
  },
  {
   "cell_type": "code",
   "execution_count": 817,
   "id": "a9b6f623",
   "metadata": {},
   "outputs": [
    {
     "name": "stderr",
     "output_type": "stream",
     "text": [
      "/Users/tsenghungyen/anaconda3/envs/ta/lib/python3.8/site-packages/sklearn/svm/_base.py:1244: ConvergenceWarning: Liblinear failed to converge, increase the number of iterations.\n",
      "  warnings.warn(\n"
     ]
    }
   ],
   "source": [
    "svc_clf = svm.LinearSVC().fit(X_train, y_train)"
   ]
  },
  {
   "cell_type": "code",
   "execution_count": 818,
   "id": "fe3474d4",
   "metadata": {},
   "outputs": [
    {
     "name": "stdout",
     "output_type": "stream",
     "text": [
      "0.6658459472314708\n"
     ]
    }
   ],
   "source": [
    "y_train_pred = svc_clf.predict(X_train)\n",
    "train_acc = accuracy_score(y_train_pred, y_train)\n",
    "print(train_acc)"
   ]
  },
  {
   "cell_type": "code",
   "execution_count": 819,
   "id": "4b746150",
   "metadata": {},
   "outputs": [
    {
     "name": "stdout",
     "output_type": "stream",
     "text": [
      "0.662747102931152\n"
     ]
    }
   ],
   "source": [
    "y_test_pred = svc_clf.predict(X_test)\n",
    "test_acc = accuracy_score(y_test_pred, y_test)\n",
    "print(test_acc)"
   ]
  },
  {
   "cell_type": "code",
   "execution_count": 770,
   "id": "ad551b56",
   "metadata": {},
   "outputs": [
    {
     "data": {
      "text/plain": [
       "{'C': 1.0,\n",
       " 'class_weight': None,\n",
       " 'dual': True,\n",
       " 'fit_intercept': True,\n",
       " 'intercept_scaling': 1,\n",
       " 'loss': 'squared_hinge',\n",
       " 'max_iter': 1000,\n",
       " 'multi_class': 'ovr',\n",
       " 'penalty': 'l2',\n",
       " 'random_state': None,\n",
       " 'tol': 0.0001,\n",
       " 'verbose': 0}"
      ]
     },
     "execution_count": 770,
     "metadata": {},
     "output_type": "execute_result"
    }
   ],
   "source": [
    "svc_clf.get_params()"
   ]
  },
  {
   "cell_type": "markdown",
   "id": "d6928a2f",
   "metadata": {},
   "source": [
    "# AdaBoost"
   ]
  },
  {
   "cell_type": "code",
   "execution_count": 622,
   "id": "6928e387",
   "metadata": {},
   "outputs": [],
   "source": [
    "# Ada_clf = AdaBoostClassifier(n_estimators=1000, random_state=0).fit(X_train, y_train)"
   ]
  },
  {
   "cell_type": "code",
   "execution_count": 623,
   "id": "1db7b783",
   "metadata": {},
   "outputs": [],
   "source": [
    "# y_train_pred = Ada_clf.predict(X_train)\n",
    "# train_acc = accuracy_score(y_train_pred, y_train)\n",
    "# print(train_acc)"
   ]
  },
  {
   "cell_type": "code",
   "execution_count": 624,
   "id": "8eb6a5c1",
   "metadata": {},
   "outputs": [],
   "source": [
    "# y_test_pred = Ada_clf.predict(X_test)\n",
    "# test_acc = accuracy_score(y_test_pred, y_test)\n",
    "# print(test_acc)"
   ]
  },
  {
   "cell_type": "markdown",
   "id": "21faecf8",
   "metadata": {},
   "source": [
    "# Decision Tree"
   ]
  },
  {
   "cell_type": "code",
   "execution_count": 625,
   "id": "6c7703fe",
   "metadata": {},
   "outputs": [],
   "source": [
    "# from sklearn import tree\n",
    "# tree_clf = tree.DecisionTreeClassifier().fit(X_train, y_train)"
   ]
  },
  {
   "cell_type": "code",
   "execution_count": 626,
   "id": "d0bb3892",
   "metadata": {},
   "outputs": [
    {
     "name": "stdout",
     "output_type": "stream",
     "text": [
      "0.8055337004982953\n"
     ]
    }
   ],
   "source": [
    "# y_train_pred = tree_clf.predict(X_train)\n",
    "# train_acc = accuracy_score(y_train_pred, y_train)\n",
    "# print(train_acc)"
   ]
  },
  {
   "cell_type": "code",
   "execution_count": 627,
   "id": "1838bc6b",
   "metadata": {},
   "outputs": [
    {
     "name": "stdout",
     "output_type": "stream",
     "text": [
      "0.7581861744609104\n"
     ]
    }
   ],
   "source": [
    "# y_test_pred = tree_clf.predict(X_test)\n",
    "# test_acc = accuracy_score(y_test_pred, y_test)\n",
    "# print(test_acc)"
   ]
  },
  {
   "cell_type": "code",
   "execution_count": null,
   "id": "b62dbd6e",
   "metadata": {},
   "outputs": [],
   "source": []
  }
 ],
 "metadata": {
  "kernelspec": {
   "display_name": "Python 3 (ipykernel)",
   "language": "python",
   "name": "python3"
  },
  "language_info": {
   "codemirror_mode": {
    "name": "ipython",
    "version": 3
   },
   "file_extension": ".py",
   "mimetype": "text/x-python",
   "name": "python",
   "nbconvert_exporter": "python",
   "pygments_lexer": "ipython3",
   "version": "3.8.13"
  }
 },
 "nbformat": 4,
 "nbformat_minor": 5
}
